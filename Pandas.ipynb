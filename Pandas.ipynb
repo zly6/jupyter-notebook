{
 "cells": [
  {
   "cell_type": "markdown",
   "metadata": {},
   "source": [
    "# 初识Pandas\n",
    "Pandas是以NumPy为基础，在其之上提供更加易用的数据结构和数据分析工具，可帮助提高工作效率。\n",
    "\n",
    "首先，pandas重点提供两种数据结构：\n",
    "- **Series**\n",
    "序列， 一维数据，是对NumPy的一维数组的封装，可自定义索引（index）\n",
    "这点类似于Linux shell script中的关联数组\n",
    "- **DataFrame**\n",
    "数据框，二位数据，是对NumPy的二维数组的封装，可自定义索引（index）和列名（column）\n",
    "\n",
    "除此之外，还有\n",
    "\n",
    "- describe：快速计算数据的各种描述性统计值\n",
    "- unique：数据的独立值列表\n",
    "- value_count： 各个值的计数\n",
    "- hist：直接绘制直方图\n",
    "- plot：对matplotlib进行简单封装，执行简单的绘图功能\n",
    "\n",
    "小工具：\n",
    "- 便捷的I/O\n",
    "- 媲美SQL的功能\n",
    "- 媲美Excel的功能：透视表\n",
    "\n",
    "最后，Pandas的文档非常丰富，更新频繁，社区十分活跃。\n",
    "\n",
    "首先，导入需要的模块"
   ]
  },
  {
   "cell_type": "code",
   "execution_count": 1,
   "metadata": {
    "collapsed": true
   },
   "outputs": [],
   "source": [
    "import pandas as pd\n",
    "import numpy as np\n",
    "import matplotlib.pyplot as plt\n",
    "%matplotlib inline"
   ]
  },
  {
   "cell_type": "markdown",
   "metadata": {},
   "source": [
    "# 创建对象（object creation）\n"
   ]
  },
  {
   "cell_type": "code",
   "execution_count": 2,
   "metadata": {},
   "outputs": [
    {
     "data": {
      "text/plain": [
       "0    1.0\n",
       "1    3.0\n",
       "2    4.0\n",
       "3    NaN\n",
       "4    6.0\n",
       "5    8.0\n",
       "dtype: float64"
      ]
     },
     "execution_count": 2,
     "metadata": {},
     "output_type": "execute_result"
    }
   ],
   "source": [
    "s = pd.Series([1,3,4,np.nan,6,8])\n",
    "s"
   ]
  },
  {
   "cell_type": "code",
   "execution_count": 3,
   "metadata": {},
   "outputs": [
    {
     "data": {
      "text/plain": [
       "DatetimeIndex(['2017-10-26', '2017-10-27', '2017-10-28', '2017-10-29',\n",
       "               '2017-10-30', '2017-10-31'],\n",
       "              dtype='datetime64[ns]', freq='D')"
      ]
     },
     "execution_count": 3,
     "metadata": {},
     "output_type": "execute_result"
    }
   ],
   "source": [
    "dates = pd.date_range('20171026', periods=6)\n",
    "dates"
   ]
  },
  {
   "cell_type": "code",
   "execution_count": 4,
   "metadata": {},
   "outputs": [
    {
     "data": {
      "text/html": [
       "<div>\n",
       "<style>\n",
       "    .dataframe thead tr:only-child th {\n",
       "        text-align: right;\n",
       "    }\n",
       "\n",
       "    .dataframe thead th {\n",
       "        text-align: left;\n",
       "    }\n",
       "\n",
       "    .dataframe tbody tr th {\n",
       "        vertical-align: top;\n",
       "    }\n",
       "</style>\n",
       "<table border=\"1\" class=\"dataframe\">\n",
       "  <thead>\n",
       "    <tr style=\"text-align: right;\">\n",
       "      <th></th>\n",
       "      <th>A</th>\n",
       "      <th>B</th>\n",
       "      <th>C</th>\n",
       "      <th>D</th>\n",
       "    </tr>\n",
       "  </thead>\n",
       "  <tbody>\n",
       "    <tr>\n",
       "      <th>2017-10-26</th>\n",
       "      <td>-1.331770</td>\n",
       "      <td>1.602367</td>\n",
       "      <td>-0.561792</td>\n",
       "      <td>1.825721</td>\n",
       "    </tr>\n",
       "    <tr>\n",
       "      <th>2017-10-27</th>\n",
       "      <td>0.251834</td>\n",
       "      <td>-0.765978</td>\n",
       "      <td>0.432401</td>\n",
       "      <td>0.671658</td>\n",
       "    </tr>\n",
       "    <tr>\n",
       "      <th>2017-10-28</th>\n",
       "      <td>-1.150419</td>\n",
       "      <td>-0.909648</td>\n",
       "      <td>0.012585</td>\n",
       "      <td>-1.406542</td>\n",
       "    </tr>\n",
       "    <tr>\n",
       "      <th>2017-10-29</th>\n",
       "      <td>1.607818</td>\n",
       "      <td>1.517355</td>\n",
       "      <td>-0.756374</td>\n",
       "      <td>0.872013</td>\n",
       "    </tr>\n",
       "    <tr>\n",
       "      <th>2017-10-30</th>\n",
       "      <td>1.340570</td>\n",
       "      <td>0.133495</td>\n",
       "      <td>1.136394</td>\n",
       "      <td>1.379843</td>\n",
       "    </tr>\n",
       "    <tr>\n",
       "      <th>2017-10-31</th>\n",
       "      <td>-0.205709</td>\n",
       "      <td>0.844860</td>\n",
       "      <td>-0.768821</td>\n",
       "      <td>0.263155</td>\n",
       "    </tr>\n",
       "  </tbody>\n",
       "</table>\n",
       "</div>"
      ],
      "text/plain": [
       "                   A         B         C         D\n",
       "2017-10-26 -1.331770  1.602367 -0.561792  1.825721\n",
       "2017-10-27  0.251834 -0.765978  0.432401  0.671658\n",
       "2017-10-28 -1.150419 -0.909648  0.012585 -1.406542\n",
       "2017-10-29  1.607818  1.517355 -0.756374  0.872013\n",
       "2017-10-30  1.340570  0.133495  1.136394  1.379843\n",
       "2017-10-31 -0.205709  0.844860 -0.768821  0.263155"
      ]
     },
     "execution_count": 4,
     "metadata": {},
     "output_type": "execute_result"
    }
   ],
   "source": [
    "df = pd.DataFrame(np.random.randn(6,4), index=dates, columns=tuple('ABCD'))#此处tuple('ABCD)is short for ('A','B','C','D')\n",
    "df"
   ]
  },
  {
   "cell_type": "markdown",
   "metadata": {},
   "source": [
    "可使用一个字典dict 来创建一个DataFrame对象，而且它会自动应用NumPy的广播（自动复制）"
   ]
  },
  {
   "cell_type": "code",
   "execution_count": 8,
   "metadata": {},
   "outputs": [
    {
     "data": {
      "text/html": [
       "<div>\n",
       "<style>\n",
       "    .dataframe thead tr:only-child th {\n",
       "        text-align: right;\n",
       "    }\n",
       "\n",
       "    .dataframe thead th {\n",
       "        text-align: left;\n",
       "    }\n",
       "\n",
       "    .dataframe tbody tr th {\n",
       "        vertical-align: top;\n",
       "    }\n",
       "</style>\n",
       "<table border=\"1\" class=\"dataframe\">\n",
       "  <thead>\n",
       "    <tr style=\"text-align: right;\">\n",
       "      <th></th>\n",
       "      <th>A</th>\n",
       "      <th>B</th>\n",
       "      <th>C</th>\n",
       "      <th>D</th>\n",
       "      <th>E</th>\n",
       "      <th>F</th>\n",
       "    </tr>\n",
       "  </thead>\n",
       "  <tbody>\n",
       "    <tr>\n",
       "      <th>0</th>\n",
       "      <td>1.0</td>\n",
       "      <td>2017-10-26</td>\n",
       "      <td>1.0</td>\n",
       "      <td>3</td>\n",
       "      <td>test</td>\n",
       "      <td>foo</td>\n",
       "    </tr>\n",
       "    <tr>\n",
       "      <th>1</th>\n",
       "      <td>1.0</td>\n",
       "      <td>2017-10-26</td>\n",
       "      <td>1.0</td>\n",
       "      <td>3</td>\n",
       "      <td>train</td>\n",
       "      <td>foo</td>\n",
       "    </tr>\n",
       "    <tr>\n",
       "      <th>2</th>\n",
       "      <td>1.0</td>\n",
       "      <td>2017-10-26</td>\n",
       "      <td>1.0</td>\n",
       "      <td>3</td>\n",
       "      <td>test</td>\n",
       "      <td>foo</td>\n",
       "    </tr>\n",
       "    <tr>\n",
       "      <th>3</th>\n",
       "      <td>1.0</td>\n",
       "      <td>2017-10-26</td>\n",
       "      <td>1.0</td>\n",
       "      <td>3</td>\n",
       "      <td>train</td>\n",
       "      <td>foo</td>\n",
       "    </tr>\n",
       "  </tbody>\n",
       "</table>\n",
       "</div>"
      ],
      "text/plain": [
       "     A          B    C  D      E    F\n",
       "0  1.0 2017-10-26  1.0  3   test  foo\n",
       "1  1.0 2017-10-26  1.0  3  train  foo\n",
       "2  1.0 2017-10-26  1.0  3   test  foo\n",
       "3  1.0 2017-10-26  1.0  3  train  foo"
      ]
     },
     "execution_count": 8,
     "metadata": {},
     "output_type": "execute_result"
    }
   ],
   "source": [
    "df2 = pd.DataFrame({'A' : 1.,\n",
    "                    'B' : pd.Timestamp('20171026'),\n",
    "                    'C' : pd.Series(1,index=list(range(4)),dtype='float32'),\n",
    "                    'D' : np.array([3]*4, dtype='int32'),\n",
    "                    'E' : pd.Categorical([\"test\",\"train\",\"test\",\"train\"]), #类别数据\n",
    "                    'F' : 'foo'})\n",
    "df2"
   ]
  },
  {
   "cell_type": "code",
   "execution_count": 9,
   "metadata": {},
   "outputs": [
    {
     "data": {
      "text/plain": [
       "A           float64\n",
       "B    datetime64[ns]\n",
       "C           float32\n",
       "D             int32\n",
       "E          category\n",
       "F            object\n",
       "dtype: object"
      ]
     },
     "execution_count": 9,
     "metadata": {},
     "output_type": "execute_result"
    }
   ],
   "source": [
    "df2.dtypes"
   ]
  },
  {
   "cell_type": "code",
   "execution_count": 10,
   "metadata": {},
   "outputs": [
    {
     "data": {
      "text/plain": [
       "0    1.0\n",
       "1    1.0\n",
       "2    1.0\n",
       "3    1.0\n",
       "Name: C, dtype: float32"
      ]
     },
     "execution_count": 10,
     "metadata": {},
     "output_type": "execute_result"
    }
   ],
   "source": [
    "df2.C #等价于 df2['C']"
   ]
  },
  {
   "cell_type": "markdown",
   "metadata": {},
   "source": [
    "## 查看数据（viewing data）"
   ]
  },
  {
   "cell_type": "code",
   "execution_count": 12,
   "metadata": {},
   "outputs": [
    {
     "data": {
      "text/html": [
       "<div>\n",
       "<style>\n",
       "    .dataframe thead tr:only-child th {\n",
       "        text-align: right;\n",
       "    }\n",
       "\n",
       "    .dataframe thead th {\n",
       "        text-align: left;\n",
       "    }\n",
       "\n",
       "    .dataframe tbody tr th {\n",
       "        vertical-align: top;\n",
       "    }\n",
       "</style>\n",
       "<table border=\"1\" class=\"dataframe\">\n",
       "  <thead>\n",
       "    <tr style=\"text-align: right;\">\n",
       "      <th></th>\n",
       "      <th>A</th>\n",
       "      <th>B</th>\n",
       "      <th>C</th>\n",
       "      <th>D</th>\n",
       "    </tr>\n",
       "  </thead>\n",
       "  <tbody>\n",
       "    <tr>\n",
       "      <th>2017-10-26</th>\n",
       "      <td>-1.331770</td>\n",
       "      <td>1.602367</td>\n",
       "      <td>-0.561792</td>\n",
       "      <td>1.825721</td>\n",
       "    </tr>\n",
       "    <tr>\n",
       "      <th>2017-10-27</th>\n",
       "      <td>0.251834</td>\n",
       "      <td>-0.765978</td>\n",
       "      <td>0.432401</td>\n",
       "      <td>0.671658</td>\n",
       "    </tr>\n",
       "    <tr>\n",
       "      <th>2017-10-28</th>\n",
       "      <td>-1.150419</td>\n",
       "      <td>-0.909648</td>\n",
       "      <td>0.012585</td>\n",
       "      <td>-1.406542</td>\n",
       "    </tr>\n",
       "    <tr>\n",
       "      <th>2017-10-29</th>\n",
       "      <td>1.607818</td>\n",
       "      <td>1.517355</td>\n",
       "      <td>-0.756374</td>\n",
       "      <td>0.872013</td>\n",
       "    </tr>\n",
       "    <tr>\n",
       "      <th>2017-10-30</th>\n",
       "      <td>1.340570</td>\n",
       "      <td>0.133495</td>\n",
       "      <td>1.136394</td>\n",
       "      <td>1.379843</td>\n",
       "    </tr>\n",
       "  </tbody>\n",
       "</table>\n",
       "</div>"
      ],
      "text/plain": [
       "                   A         B         C         D\n",
       "2017-10-26 -1.331770  1.602367 -0.561792  1.825721\n",
       "2017-10-27  0.251834 -0.765978  0.432401  0.671658\n",
       "2017-10-28 -1.150419 -0.909648  0.012585 -1.406542\n",
       "2017-10-29  1.607818  1.517355 -0.756374  0.872013\n",
       "2017-10-30  1.340570  0.133495  1.136394  1.379843"
      ]
     },
     "execution_count": 12,
     "metadata": {},
     "output_type": "execute_result"
    }
   ],
   "source": [
    "df.head()  #默认给出五行"
   ]
  },
  {
   "cell_type": "code",
   "execution_count": 13,
   "metadata": {},
   "outputs": [
    {
     "data": {
      "text/html": [
       "<div>\n",
       "<style>\n",
       "    .dataframe thead tr:only-child th {\n",
       "        text-align: right;\n",
       "    }\n",
       "\n",
       "    .dataframe thead th {\n",
       "        text-align: left;\n",
       "    }\n",
       "\n",
       "    .dataframe tbody tr th {\n",
       "        vertical-align: top;\n",
       "    }\n",
       "</style>\n",
       "<table border=\"1\" class=\"dataframe\">\n",
       "  <thead>\n",
       "    <tr style=\"text-align: right;\">\n",
       "      <th></th>\n",
       "      <th>A</th>\n",
       "      <th>B</th>\n",
       "      <th>C</th>\n",
       "      <th>D</th>\n",
       "    </tr>\n",
       "  </thead>\n",
       "  <tbody>\n",
       "    <tr>\n",
       "      <th>2017-10-27</th>\n",
       "      <td>0.251834</td>\n",
       "      <td>-0.765978</td>\n",
       "      <td>0.432401</td>\n",
       "      <td>0.671658</td>\n",
       "    </tr>\n",
       "    <tr>\n",
       "      <th>2017-10-28</th>\n",
       "      <td>-1.150419</td>\n",
       "      <td>-0.909648</td>\n",
       "      <td>0.012585</td>\n",
       "      <td>-1.406542</td>\n",
       "    </tr>\n",
       "    <tr>\n",
       "      <th>2017-10-29</th>\n",
       "      <td>1.607818</td>\n",
       "      <td>1.517355</td>\n",
       "      <td>-0.756374</td>\n",
       "      <td>0.872013</td>\n",
       "    </tr>\n",
       "    <tr>\n",
       "      <th>2017-10-30</th>\n",
       "      <td>1.340570</td>\n",
       "      <td>0.133495</td>\n",
       "      <td>1.136394</td>\n",
       "      <td>1.379843</td>\n",
       "    </tr>\n",
       "    <tr>\n",
       "      <th>2017-10-31</th>\n",
       "      <td>-0.205709</td>\n",
       "      <td>0.844860</td>\n",
       "      <td>-0.768821</td>\n",
       "      <td>0.263155</td>\n",
       "    </tr>\n",
       "  </tbody>\n",
       "</table>\n",
       "</div>"
      ],
      "text/plain": [
       "                   A         B         C         D\n",
       "2017-10-27  0.251834 -0.765978  0.432401  0.671658\n",
       "2017-10-28 -1.150419 -0.909648  0.012585 -1.406542\n",
       "2017-10-29  1.607818  1.517355 -0.756374  0.872013\n",
       "2017-10-30  1.340570  0.133495  1.136394  1.379843\n",
       "2017-10-31 -0.205709  0.844860 -0.768821  0.263155"
      ]
     },
     "execution_count": 13,
     "metadata": {},
     "output_type": "execute_result"
    }
   ],
   "source": [
    "df.tail() # 默认后面五行"
   ]
  },
  {
   "cell_type": "code",
   "execution_count": 14,
   "metadata": {},
   "outputs": [
    {
     "data": {
      "text/plain": [
       "DatetimeIndex(['2017-10-26', '2017-10-27', '2017-10-28', '2017-10-29',\n",
       "               '2017-10-30', '2017-10-31'],\n",
       "              dtype='datetime64[ns]', freq='D')"
      ]
     },
     "execution_count": 14,
     "metadata": {},
     "output_type": "execute_result"
    }
   ],
   "source": [
    "df.index"
   ]
  },
  {
   "cell_type": "code",
   "execution_count": 15,
   "metadata": {},
   "outputs": [
    {
     "data": {
      "text/plain": [
       "Index([u'A', u'B', u'C', u'D'], dtype='object')"
      ]
     },
     "execution_count": 15,
     "metadata": {},
     "output_type": "execute_result"
    }
   ],
   "source": [
    "df.columns"
   ]
  },
  {
   "cell_type": "code",
   "execution_count": 16,
   "metadata": {},
   "outputs": [
    {
     "data": {
      "text/plain": [
       "array([[-1.33176957,  1.60236681, -0.56179169,  1.82572055],\n",
       "       [ 0.25183395, -0.76597795,  0.43240144,  0.67165814],\n",
       "       [-1.15041898, -0.90964815,  0.0125847 , -1.4065419 ],\n",
       "       [ 1.60781774,  1.5173552 , -0.7563744 ,  0.87201334],\n",
       "       [ 1.34057038,  0.13349523,  1.13639407,  1.37984348],\n",
       "       [-0.20570949,  0.8448597 , -0.76882115,  0.2631547 ]])"
      ]
     },
     "execution_count": 16,
     "metadata": {},
     "output_type": "execute_result"
    }
   ],
   "source": [
    "df.values"
   ]
  },
  {
   "cell_type": "code",
   "execution_count": 17,
   "metadata": {},
   "outputs": [
    {
     "data": {
      "text/html": [
       "<div>\n",
       "<style>\n",
       "    .dataframe thead tr:only-child th {\n",
       "        text-align: right;\n",
       "    }\n",
       "\n",
       "    .dataframe thead th {\n",
       "        text-align: left;\n",
       "    }\n",
       "\n",
       "    .dataframe tbody tr th {\n",
       "        vertical-align: top;\n",
       "    }\n",
       "</style>\n",
       "<table border=\"1\" class=\"dataframe\">\n",
       "  <thead>\n",
       "    <tr style=\"text-align: right;\">\n",
       "      <th></th>\n",
       "      <th>A</th>\n",
       "      <th>B</th>\n",
       "      <th>C</th>\n",
       "      <th>D</th>\n",
       "    </tr>\n",
       "  </thead>\n",
       "  <tbody>\n",
       "    <tr>\n",
       "      <th>count</th>\n",
       "      <td>6.000000</td>\n",
       "      <td>6.000000</td>\n",
       "      <td>6.000000</td>\n",
       "      <td>6.000000</td>\n",
       "    </tr>\n",
       "    <tr>\n",
       "      <th>mean</th>\n",
       "      <td>0.085387</td>\n",
       "      <td>0.403742</td>\n",
       "      <td>-0.084268</td>\n",
       "      <td>0.600975</td>\n",
       "    </tr>\n",
       "    <tr>\n",
       "      <th>std</th>\n",
       "      <td>1.228110</td>\n",
       "      <td>1.098881</td>\n",
       "      <td>0.763507</td>\n",
       "      <td>1.125108</td>\n",
       "    </tr>\n",
       "    <tr>\n",
       "      <th>min</th>\n",
       "      <td>-1.331770</td>\n",
       "      <td>-0.909648</td>\n",
       "      <td>-0.768821</td>\n",
       "      <td>-1.406542</td>\n",
       "    </tr>\n",
       "    <tr>\n",
       "      <th>25%</th>\n",
       "      <td>-0.914242</td>\n",
       "      <td>-0.541110</td>\n",
       "      <td>-0.707729</td>\n",
       "      <td>0.365281</td>\n",
       "    </tr>\n",
       "    <tr>\n",
       "      <th>50%</th>\n",
       "      <td>0.023062</td>\n",
       "      <td>0.489177</td>\n",
       "      <td>-0.274603</td>\n",
       "      <td>0.771836</td>\n",
       "    </tr>\n",
       "    <tr>\n",
       "      <th>75%</th>\n",
       "      <td>1.068386</td>\n",
       "      <td>1.349231</td>\n",
       "      <td>0.327447</td>\n",
       "      <td>1.252886</td>\n",
       "    </tr>\n",
       "    <tr>\n",
       "      <th>max</th>\n",
       "      <td>1.607818</td>\n",
       "      <td>1.602367</td>\n",
       "      <td>1.136394</td>\n",
       "      <td>1.825721</td>\n",
       "    </tr>\n",
       "  </tbody>\n",
       "</table>\n",
       "</div>"
      ],
      "text/plain": [
       "              A         B         C         D\n",
       "count  6.000000  6.000000  6.000000  6.000000\n",
       "mean   0.085387  0.403742 -0.084268  0.600975\n",
       "std    1.228110  1.098881  0.763507  1.125108\n",
       "min   -1.331770 -0.909648 -0.768821 -1.406542\n",
       "25%   -0.914242 -0.541110 -0.707729  0.365281\n",
       "50%    0.023062  0.489177 -0.274603  0.771836\n",
       "75%    1.068386  1.349231  0.327447  1.252886\n",
       "max    1.607818  1.602367  1.136394  1.825721"
      ]
     },
     "execution_count": 17,
     "metadata": {},
     "output_type": "execute_result"
    }
   ],
   "source": [
    "df.describe()  # 给出数据的统计特性"
   ]
  },
  {
   "cell_type": "code",
   "execution_count": 18,
   "metadata": {},
   "outputs": [
    {
     "data": {
      "text/html": [
       "<div>\n",
       "<style>\n",
       "    .dataframe thead tr:only-child th {\n",
       "        text-align: right;\n",
       "    }\n",
       "\n",
       "    .dataframe thead th {\n",
       "        text-align: left;\n",
       "    }\n",
       "\n",
       "    .dataframe tbody tr th {\n",
       "        vertical-align: top;\n",
       "    }\n",
       "</style>\n",
       "<table border=\"1\" class=\"dataframe\">\n",
       "  <thead>\n",
       "    <tr style=\"text-align: right;\">\n",
       "      <th></th>\n",
       "      <th>2017-10-26 00:00:00</th>\n",
       "      <th>2017-10-27 00:00:00</th>\n",
       "      <th>2017-10-28 00:00:00</th>\n",
       "      <th>2017-10-29 00:00:00</th>\n",
       "      <th>2017-10-30 00:00:00</th>\n",
       "      <th>2017-10-31 00:00:00</th>\n",
       "    </tr>\n",
       "  </thead>\n",
       "  <tbody>\n",
       "    <tr>\n",
       "      <th>A</th>\n",
       "      <td>-1.331770</td>\n",
       "      <td>0.251834</td>\n",
       "      <td>-1.150419</td>\n",
       "      <td>1.607818</td>\n",
       "      <td>1.340570</td>\n",
       "      <td>-0.205709</td>\n",
       "    </tr>\n",
       "    <tr>\n",
       "      <th>B</th>\n",
       "      <td>1.602367</td>\n",
       "      <td>-0.765978</td>\n",
       "      <td>-0.909648</td>\n",
       "      <td>1.517355</td>\n",
       "      <td>0.133495</td>\n",
       "      <td>0.844860</td>\n",
       "    </tr>\n",
       "    <tr>\n",
       "      <th>C</th>\n",
       "      <td>-0.561792</td>\n",
       "      <td>0.432401</td>\n",
       "      <td>0.012585</td>\n",
       "      <td>-0.756374</td>\n",
       "      <td>1.136394</td>\n",
       "      <td>-0.768821</td>\n",
       "    </tr>\n",
       "    <tr>\n",
       "      <th>D</th>\n",
       "      <td>1.825721</td>\n",
       "      <td>0.671658</td>\n",
       "      <td>-1.406542</td>\n",
       "      <td>0.872013</td>\n",
       "      <td>1.379843</td>\n",
       "      <td>0.263155</td>\n",
       "    </tr>\n",
       "  </tbody>\n",
       "</table>\n",
       "</div>"
      ],
      "text/plain": [
       "   2017-10-26  2017-10-27  2017-10-28  2017-10-29  2017-10-30  2017-10-31\n",
       "A   -1.331770    0.251834   -1.150419    1.607818    1.340570   -0.205709\n",
       "B    1.602367   -0.765978   -0.909648    1.517355    0.133495    0.844860\n",
       "C   -0.561792    0.432401    0.012585   -0.756374    1.136394   -0.768821\n",
       "D    1.825721    0.671658   -1.406542    0.872013    1.379843    0.263155"
      ]
     },
     "execution_count": 18,
     "metadata": {},
     "output_type": "execute_result"
    }
   ],
   "source": [
    "df.T #转置"
   ]
  },
  {
   "cell_type": "code",
   "execution_count": 19,
   "metadata": {},
   "outputs": [
    {
     "data": {
      "text/html": [
       "<div>\n",
       "<style>\n",
       "    .dataframe thead tr:only-child th {\n",
       "        text-align: right;\n",
       "    }\n",
       "\n",
       "    .dataframe thead th {\n",
       "        text-align: left;\n",
       "    }\n",
       "\n",
       "    .dataframe tbody tr th {\n",
       "        vertical-align: top;\n",
       "    }\n",
       "</style>\n",
       "<table border=\"1\" class=\"dataframe\">\n",
       "  <thead>\n",
       "    <tr style=\"text-align: right;\">\n",
       "      <th></th>\n",
       "      <th>D</th>\n",
       "      <th>C</th>\n",
       "      <th>B</th>\n",
       "      <th>A</th>\n",
       "    </tr>\n",
       "  </thead>\n",
       "  <tbody>\n",
       "    <tr>\n",
       "      <th>2017-10-26</th>\n",
       "      <td>1.825721</td>\n",
       "      <td>-0.561792</td>\n",
       "      <td>1.602367</td>\n",
       "      <td>-1.331770</td>\n",
       "    </tr>\n",
       "    <tr>\n",
       "      <th>2017-10-27</th>\n",
       "      <td>0.671658</td>\n",
       "      <td>0.432401</td>\n",
       "      <td>-0.765978</td>\n",
       "      <td>0.251834</td>\n",
       "    </tr>\n",
       "    <tr>\n",
       "      <th>2017-10-28</th>\n",
       "      <td>-1.406542</td>\n",
       "      <td>0.012585</td>\n",
       "      <td>-0.909648</td>\n",
       "      <td>-1.150419</td>\n",
       "    </tr>\n",
       "    <tr>\n",
       "      <th>2017-10-29</th>\n",
       "      <td>0.872013</td>\n",
       "      <td>-0.756374</td>\n",
       "      <td>1.517355</td>\n",
       "      <td>1.607818</td>\n",
       "    </tr>\n",
       "    <tr>\n",
       "      <th>2017-10-30</th>\n",
       "      <td>1.379843</td>\n",
       "      <td>1.136394</td>\n",
       "      <td>0.133495</td>\n",
       "      <td>1.340570</td>\n",
       "    </tr>\n",
       "    <tr>\n",
       "      <th>2017-10-31</th>\n",
       "      <td>0.263155</td>\n",
       "      <td>-0.768821</td>\n",
       "      <td>0.844860</td>\n",
       "      <td>-0.205709</td>\n",
       "    </tr>\n",
       "  </tbody>\n",
       "</table>\n",
       "</div>"
      ],
      "text/plain": [
       "                   D         C         B         A\n",
       "2017-10-26  1.825721 -0.561792  1.602367 -1.331770\n",
       "2017-10-27  0.671658  0.432401 -0.765978  0.251834\n",
       "2017-10-28 -1.406542  0.012585 -0.909648 -1.150419\n",
       "2017-10-29  0.872013 -0.756374  1.517355  1.607818\n",
       "2017-10-30  1.379843  1.136394  0.133495  1.340570\n",
       "2017-10-31  0.263155 -0.768821  0.844860 -0.205709"
      ]
     },
     "execution_count": 19,
     "metadata": {},
     "output_type": "execute_result"
    }
   ],
   "source": [
    "df.sort_index(axis=1, ascending=False) #按照列名（axis=1）或行名进行排序"
   ]
  },
  {
   "cell_type": "code",
   "execution_count": 20,
   "metadata": {},
   "outputs": [
    {
     "data": {
      "text/html": [
       "<div>\n",
       "<style>\n",
       "    .dataframe thead tr:only-child th {\n",
       "        text-align: right;\n",
       "    }\n",
       "\n",
       "    .dataframe thead th {\n",
       "        text-align: left;\n",
       "    }\n",
       "\n",
       "    .dataframe tbody tr th {\n",
       "        vertical-align: top;\n",
       "    }\n",
       "</style>\n",
       "<table border=\"1\" class=\"dataframe\">\n",
       "  <thead>\n",
       "    <tr style=\"text-align: right;\">\n",
       "      <th></th>\n",
       "      <th>A</th>\n",
       "      <th>B</th>\n",
       "      <th>C</th>\n",
       "      <th>D</th>\n",
       "    </tr>\n",
       "  </thead>\n",
       "  <tbody>\n",
       "    <tr>\n",
       "      <th>2017-10-28</th>\n",
       "      <td>-1.150419</td>\n",
       "      <td>-0.909648</td>\n",
       "      <td>0.012585</td>\n",
       "      <td>-1.406542</td>\n",
       "    </tr>\n",
       "    <tr>\n",
       "      <th>2017-10-27</th>\n",
       "      <td>0.251834</td>\n",
       "      <td>-0.765978</td>\n",
       "      <td>0.432401</td>\n",
       "      <td>0.671658</td>\n",
       "    </tr>\n",
       "    <tr>\n",
       "      <th>2017-10-30</th>\n",
       "      <td>1.340570</td>\n",
       "      <td>0.133495</td>\n",
       "      <td>1.136394</td>\n",
       "      <td>1.379843</td>\n",
       "    </tr>\n",
       "    <tr>\n",
       "      <th>2017-10-31</th>\n",
       "      <td>-0.205709</td>\n",
       "      <td>0.844860</td>\n",
       "      <td>-0.768821</td>\n",
       "      <td>0.263155</td>\n",
       "    </tr>\n",
       "    <tr>\n",
       "      <th>2017-10-29</th>\n",
       "      <td>1.607818</td>\n",
       "      <td>1.517355</td>\n",
       "      <td>-0.756374</td>\n",
       "      <td>0.872013</td>\n",
       "    </tr>\n",
       "    <tr>\n",
       "      <th>2017-10-26</th>\n",
       "      <td>-1.331770</td>\n",
       "      <td>1.602367</td>\n",
       "      <td>-0.561792</td>\n",
       "      <td>1.825721</td>\n",
       "    </tr>\n",
       "  </tbody>\n",
       "</table>\n",
       "</div>"
      ],
      "text/plain": [
       "                   A         B         C         D\n",
       "2017-10-28 -1.150419 -0.909648  0.012585 -1.406542\n",
       "2017-10-27  0.251834 -0.765978  0.432401  0.671658\n",
       "2017-10-30  1.340570  0.133495  1.136394  1.379843\n",
       "2017-10-31 -0.205709  0.844860 -0.768821  0.263155\n",
       "2017-10-29  1.607818  1.517355 -0.756374  0.872013\n",
       "2017-10-26 -1.331770  1.602367 -0.561792  1.825721"
      ]
     },
     "execution_count": 20,
     "metadata": {},
     "output_type": "execute_result"
    }
   ],
   "source": [
    "df.sort_values(by='B') #按照B列的数据排序"
   ]
  },
  {
   "cell_type": "markdown",
   "metadata": {},
   "source": [
    "## 选择数据"
   ]
  },
  {
   "cell_type": "code",
   "execution_count": null,
   "metadata": {
    "collapsed": true
   },
   "outputs": [],
   "source": []
  }
 ],
 "metadata": {
  "kernelspec": {
   "display_name": "Python 2",
   "language": "python",
   "name": "python2"
  },
  "language_info": {
   "codemirror_mode": {
    "name": "ipython",
    "version": 2
   },
   "file_extension": ".py",
   "mimetype": "text/x-python",
   "name": "python",
   "nbconvert_exporter": "python",
   "pygments_lexer": "ipython2",
   "version": "2.7.13"
  }
 },
 "nbformat": 4,
 "nbformat_minor": 2
}
