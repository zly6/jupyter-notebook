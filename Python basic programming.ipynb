{
 "cells": [
  {
   "cell_type": "markdown",
   "metadata": {},
   "source": [
    "# Python基本语法\n",
    "- 列表list（用[]）与元组tuple（用()）：区别在于列表可修改，而元组不可修改\n",
    "- 字典dict：映射数据类型（有键值对组成），使用花括号表示\n",
    "- 集合：无重复元素,，set创建，交、并、差运算：.intersection()/union()/difference()\n",
    "- if语句：if, elif, else\n",
    "- enumerate([])：为列表中的元素编号，从0开始\n"
   ]
  },
  {
   "cell_type": "code",
   "execution_count": 5,
   "metadata": {},
   "outputs": [
    {
     "name": "stdout",
     "output_type": "stream",
     "text": [
      "hello\n"
     ]
    }
   ],
   "source": [
    "print('hello')"
   ]
  },
  {
   "cell_type": "markdown",
   "metadata": {},
   "source": [
    "## 直接运行.py文件\n",
    "在Mac和Linux上是可以的，方法是在.py文件的第一行加上一个特殊的注释：\n",
    "\n",
    "#!/usr/bin/env python3\n",
    "\n",
    "然后 授予用户权限 chmod a+x name.py\n",
    "\n",
    "./name.py  即可"
   ]
  },
  {
   "cell_type": "code",
   "execution_count": 3,
   "metadata": {},
   "outputs": [
    {
     "data": {
      "text/plain": [
       "[0, 8, 64, 216]"
      ]
     },
     "execution_count": 3,
     "metadata": {},
     "output_type": "execute_result"
    }
   ],
   "source": [
    "# 列表解析\n",
    "cube = [x ** 3 for x in range(8) if not x % 2]\n",
    "cube"
   ]
  },
  {
   "cell_type": "code",
   "execution_count": null,
   "metadata": {
    "collapsed": true
   },
   "outputs": [],
   "source": []
  },
  {
   "cell_type": "markdown",
   "metadata": {},
   "source": [
    "大大小小的坑：\n",
    "- 在做字数统计的实践环节时，对txt文件处理时，总是出现“UnicodeDecodeError: 'utf8' codec can't decode byte 0xba in position 0: invalid start byte”错误，这是由于txt的编码方式不是utf-8，解决方法是另存为，选择编码方式 uft-8"
   ]
  },
  {
   "cell_type": "markdown",
   "metadata": {
    "collapsed": true
   },
   "source": [
    "# 版本更新 模块获取\n",
    "Anaconda的包中并非所有的模块都具备，特别是从别处如github [nbviewer](https://nbviewer.jupyter.org/)中下载的程序，如果报 模块找不到， 这是可以使用pip(python的包管理工具)获取，在CMD中输入  C:\\ProgramData\\Anaconda2\\python.exe -m pip install $module"
   ]
  },
  {
   "cell_type": "code",
   "execution_count": null,
   "metadata": {
    "collapsed": true
   },
   "outputs": [],
   "source": []
  }
 ],
 "metadata": {
  "kernelspec": {
   "display_name": "Python 2",
   "language": "python",
   "name": "python2"
  },
  "language_info": {
   "codemirror_mode": {
    "name": "ipython",
    "version": 2
   },
   "file_extension": ".py",
   "mimetype": "text/x-python",
   "name": "python",
   "nbconvert_exporter": "python",
   "pygments_lexer": "ipython2",
   "version": "2.7.13"
  }
 },
 "nbformat": 4,
 "nbformat_minor": 2
}
