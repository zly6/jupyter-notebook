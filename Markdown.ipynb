{
 "cells": [
  {
   "cell_type": "markdown",
   "metadata": {},
   "source": [
    "# Markdown练习\n",
    "**Bold**\n",
    "\n",
    "*Ilatic*\n",
    "\n",
    "**This is a _net ilatic_**\n",
    "\n",
    "~~This is Strikethrough~~\n",
    "\n",
    "***All are bold and ilatic***"
   ]
  },
  {
   "cell_type": "markdown",
   "metadata": {},
   "source": [
    "quote a poet of `Bai`:\n",
    "\n",
    "\n",
    ">观刈麦\n",
    "  白居易\n",
    "\n",
    "\n",
    "```\n",
    "田家少闲月，五月人倍忙。\n",
    "夜来南风起，小麦覆陇黄。\n",
    "妇姑荷箪食，童稚携壶浆，\n",
    "相随饷田去，丁壮在南冈。\n",
    "足蒸暑土气，背灼炎天光，\n",
    "力尽不知热，但惜夏日长。\n",
    "复有贫妇人，抱子在其旁，\n",
    "右手秉遗穗，左臂悬敝筐。\n",
    "听其相顾言，闻者为悲伤。\n",
    "家田输税尽，拾此充饥肠。\n",
    "今我何功德，曾不事农桑。\n",
    "吏禄三百石，岁晏有余粮。\n",
    "念此私自愧，尽日不能忘。\n",
    "```\n"
   ]
  },
  {
   "cell_type": "markdown",
   "metadata": {},
   "source": [
    "1. one aspect\n",
    "   - point 1\n",
    "   - point 2"
   ]
  },
  {
   "cell_type": "code",
   "execution_count": null,
   "metadata": {
    "collapsed": true
   },
   "outputs": [],
   "source": []
  }
 ],
 "metadata": {
  "kernelspec": {
   "display_name": "Python 2",
   "language": "python",
   "name": "python2"
  },
  "language_info": {
   "codemirror_mode": {
    "name": "ipython",
    "version": 2
   },
   "file_extension": ".py",
   "mimetype": "text/x-python",
   "name": "python",
   "nbconvert_exporter": "python",
   "pygments_lexer": "ipython2",
   "version": "2.7.13"
  }
 },
 "nbformat": 4,
 "nbformat_minor": 2
}
